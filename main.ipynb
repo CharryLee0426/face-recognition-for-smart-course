{
 "cells": [
  {
   "cell_type": "code",
   "execution_count": 1,
   "metadata": {},
   "outputs": [
    {
     "name": "stdout",
     "output_type": "stream",
     "text": [
      "Requirement already satisfied: pillow-heif in /opt/homebrew/Caskroom/miniforge/base/envs/pytorch-learn/lib/python3.8/site-packages (0.13.1)\n",
      "Requirement already satisfied: pillow>=9.1.1 in /opt/homebrew/Caskroom/miniforge/base/envs/pytorch-learn/lib/python3.8/site-packages (from pillow-heif) (10.0.0)\n"
     ]
    }
   ],
   "source": [
    "# Imports\n",
    "import os\n",
    "import cv2\n",
    "import pathlib\n",
    "import numpy as np\n",
    "from PIL import Image\n",
    "\n",
    "from typing import Tuple, Optional, List\n",
    "\n",
    "!pip3 install pillow-heif\n",
    "from pillow_heif import register_heif_opener\n",
    "\n",
    "from sklearn.model_selection import train_test_split\n",
    "from sklearn.naive_bayes import GaussianNB, MultinomialNB\n",
    "from sklearn.ensemble import RandomForestClassifier\n",
    "from sklearn.neighbors import KNeighborsClassifier\n",
    "from sklearn.svm import SVC\n",
    "from sklearn.metrics import accuracy_score\n",
    "from sklearn.decomposition import PCA\n",
    "from sklearn.model_selection import GridSearchCV\n",
    "from sklearn.pipeline import Pipeline\n",
    "from sklearn.preprocessing import StandardScaler\n",
    "from sklearn.metrics.pairwise import distance_metrics\n",
    "\n",
    "from keras.preprocessing.image import ImageDataGenerator"
   ]
  },
  {
   "cell_type": "markdown",
   "metadata": {},
   "source": [
    "Data Augmentation."
   ]
  },
  {
   "cell_type": "code",
   "execution_count": 6,
   "metadata": {},
   "outputs": [],
   "source": [
    "def get_datasets(input_dir):\n",
    "    \"\"\"Get the preprocessed dataset and split it\"\"\"\n",
    "    # Iterate through all of images in the input directory\n",
    "    images = []\n",
    "    labels = []\n",
    "    for img in pathlib.Path(input_dir).iterdir():\n",
    "        # Read the image and label\n",
    "        image = cv2.imread(str(img))\n",
    "        image = cv2.resize(image, (224, 224))\n",
    "        # image = image.flatten()\n",
    "        images.append(image)\n",
    "        name = img.stem.split('_')[0]\n",
    "        labels.append(name)\n",
    "\n",
    "    images_arr = np.array(images)\n",
    "\n",
    "    # Split the data into training and testing sets\n",
    "    X_train, X_test, y_train, y_test = train_test_split(\n",
    "        images_arr,\n",
    "        labels,\n",
    "        test_size=0.2,\n",
    "        random_state=22\n",
    "    )\n",
    "\n",
    "    # Use PCA for dimension reduction\n",
    "    # pca = PCA(n_components=16)\n",
    "    # X_train = pca.fit_transform(X_train)\n",
    "    # X_test = pca.transform(X_test)\n",
    "\n",
    "    return X_train, X_test, y_train, y_test\n",
    "\n",
    "\n",
    "# if __name__ == \"__main__\":\n",
    "#     X_train, X_test, y_train, y_test = get_datasets(\n",
    "#         input_dir=\"./Normalized_dnn\"\n",
    "#     )"
   ]
  },
  {
   "cell_type": "code",
   "execution_count": 7,
   "metadata": {},
   "outputs": [],
   "source": [
    "X_train, X_test, y_train, y_test = get_datasets(\n",
    "    input_dir=\"./train_preprocessed\"\n",
    ")"
   ]
  },
  {
   "cell_type": "code",
   "execution_count": 8,
   "metadata": {},
   "outputs": [
    {
     "name": "stdout",
     "output_type": "stream",
     "text": [
      "(936, 224, 224, 3)\n"
     ]
    }
   ],
   "source": [
    "print(X_train.shape)"
   ]
  },
  {
   "cell_type": "code",
   "execution_count": 9,
   "metadata": {},
   "outputs": [],
   "source": [
    "# convert list to numpy array\n",
    "y_train = np.array(y_train)\n",
    "y_test = np.array(y_test)"
   ]
  },
  {
   "cell_type": "code",
   "execution_count": 10,
   "metadata": {},
   "outputs": [],
   "source": [
    "import tensorflow as tf\n",
    "from sklearn.preprocessing import LabelEncoder\n",
    "le = LabelEncoder()\n",
    "y_train = le.fit_transform(y_train)\n",
    "y_test = le.transform(y_test)\n",
    "\n",
    "y_train = tf.keras.utils.to_categorical(y_train, num_classes=33)\n",
    "y_test = tf.keras.utils.to_categorical(y_test, num_classes=33)"
   ]
  },
  {
   "cell_type": "code",
   "execution_count": 25,
   "metadata": {},
   "outputs": [
    {
     "name": "stdout",
     "output_type": "stream",
     "text": [
      "Model: \"sequential_3\"\n",
      "_________________________________________________________________\n",
      " Layer (type)                Output Shape              Param #   \n",
      "=================================================================\n",
      " conv2d_10 (Conv2D)          (None, 222, 222, 32)      896       \n",
      "                                                                 \n",
      " max_pooling2d_10 (MaxPooli  (None, 111, 111, 32)      0         \n",
      " ng2D)                                                           \n",
      "                                                                 \n",
      " conv2d_11 (Conv2D)          (None, 109, 109, 64)      18496     \n",
      "                                                                 \n",
      " max_pooling2d_11 (MaxPooli  (None, 54, 54, 64)        0         \n",
      " ng2D)                                                           \n",
      "                                                                 \n",
      " conv2d_12 (Conv2D)          (None, 52, 52, 128)       73856     \n",
      "                                                                 \n",
      " max_pooling2d_12 (MaxPooli  (None, 26, 26, 128)       0         \n",
      " ng2D)                                                           \n",
      "                                                                 \n",
      " conv2d_13 (Conv2D)          (None, 24, 24, 256)       295168    \n",
      "                                                                 \n",
      " max_pooling2d_13 (MaxPooli  (None, 12, 12, 256)       0         \n",
      " ng2D)                                                           \n",
      "                                                                 \n",
      " conv2d_14 (Conv2D)          (None, 10, 10, 512)       1180160   \n",
      "                                                                 \n",
      " max_pooling2d_14 (MaxPooli  (None, 5, 5, 512)         0         \n",
      " ng2D)                                                           \n",
      "                                                                 \n",
      " flatten_2 (Flatten)         (None, 12800)             0         \n",
      "                                                                 \n",
      " dense_6 (Dense)             (None, 256)               3277056   \n",
      "                                                                 \n",
      " dropout_3 (Dropout)         (None, 256)               0         \n",
      "                                                                 \n",
      " dense_7 (Dense)             (None, 33)                8481      \n",
      "                                                                 \n",
      "=================================================================\n",
      "Total params: 4854113 (18.52 MB)\n",
      "Trainable params: 4854113 (18.52 MB)\n",
      "Non-trainable params: 0 (0.00 Byte)\n",
      "_________________________________________________________________\n"
     ]
    }
   ],
   "source": [
    "import tensorflow as tf\n",
    "from tensorflow.keras import layers, models, optimizers\n",
    "\n",
    "# Define the model\n",
    "model = models.Sequential()\n",
    "\n",
    "# CNN model\n",
    "# Convolutional layers\n",
    "model.add(layers.Conv2D(32, (3, 3), activation='relu', input_shape=(224, 224, 3)))\n",
    "model.add(layers.MaxPooling2D((2, 2)))\n",
    "model.add(layers.Conv2D(64, (3, 3), activation='relu'))\n",
    "model.add(layers.MaxPooling2D((2, 2)))\n",
    "model.add(layers.Conv2D(128, (3, 3), activation='relu'))\n",
    "model.add(layers.MaxPooling2D((2, 2)))\n",
    "model.add(layers.Conv2D(256, (3, 3), activation='relu'))\n",
    "model.add(layers.MaxPooling2D((2, 2)))\n",
    "model.add(layers.Conv2D(512, (3, 3), activation='relu'))\n",
    "model.add(layers.MaxPooling2D((2, 2)))\n",
    "\n",
    "# Flatten the output for the fully connected layers\n",
    "model.add(layers.Flatten())\n",
    "\n",
    "# Dense (fully connected) layers\n",
    "model.add(layers.Dense(256, activation='relu'))\n",
    "model.add(layers.Dropout(0.5))  # Dropout for regularization\n",
    "model.add(layers.Dense(33, activation='softmax'))  # 33 output classes, one for each person\n",
    "\n",
    "# Compile the model\n",
    "model.compile(optimizer='adam',\n",
    "              loss='categorical_crossentropy',\n",
    "              metrics=['accuracy'])\n",
    "\n",
    "# Display the model summary\n",
    "model.summary()"
   ]
  },
  {
   "cell_type": "code",
   "execution_count": 22,
   "metadata": {},
   "outputs": [
    {
     "name": "stdout",
     "output_type": "stream",
     "text": [
      "Model: \"sequential_2\"\n",
      "_________________________________________________________________\n",
      " Layer (type)                Output Shape              Param #   \n",
      "=================================================================\n",
      " resnet50 (Functional)       (None, 7, 7, 2048)        23587712  \n",
      "                                                                 \n",
      " global_average_pooling2d (  (None, 2048)              0         \n",
      " GlobalAveragePooling2D)                                         \n",
      "                                                                 \n",
      " dense_4 (Dense)             (None, 256)               524544    \n",
      "                                                                 \n",
      " dropout_2 (Dropout)         (None, 256)               0         \n",
      "                                                                 \n",
      " dense_5 (Dense)             (None, 33)                8481      \n",
      "                                                                 \n",
      "=================================================================\n",
      "Total params: 24120737 (92.01 MB)\n",
      "Trainable params: 533025 (2.03 MB)\n",
      "Non-trainable params: 23587712 (89.98 MB)\n",
      "_________________________________________________________________\n"
     ]
    }
   ],
   "source": [
    "import tensorflow as tf\n",
    "from tensorflow.keras import layers, models, applications\n",
    "from tensorflow.keras.preprocessing import image\n",
    "from tensorflow.keras.applications.resnet50 import preprocess_input, decode_predictions\n",
    "\n",
    "base_model = applications.ResNet50(weights='imagenet', include_top=False, input_shape=(224, 224, 3))\n",
    "\n",
    "base_model.trainable = False\n",
    "\n",
    "model = models.Sequential([\n",
    "    base_model,\n",
    "    layers.GlobalAveragePooling2D(),\n",
    "    layers.Dense(256, activation='relu'),\n",
    "    layers.Dropout(0.5),\n",
    "    layers.Dense(33, activation='softmax')  # Adjust num_classes based on your dataset\n",
    "])\n",
    "\n",
    "model.compile(optimizer='adam', loss='categorical_crossentropy', metrics=['accuracy'])\n",
    "\n",
    "model.summary()"
   ]
  },
  {
   "cell_type": "code",
   "execution_count": 45,
   "metadata": {},
   "outputs": [
    {
     "name": "stdout",
     "output_type": "stream",
     "text": [
      "Epoch 1/20\n",
      "15/15 [==============================] - 28s 2s/step - loss: 3.2868 - accuracy: 0.1335\n",
      "Epoch 2/20\n",
      "15/15 [==============================] - 27s 2s/step - loss: 2.1927 - accuracy: 0.4156\n",
      "Epoch 3/20\n",
      "15/15 [==============================] - 28s 2s/step - loss: 1.4426 - accuracy: 0.6464\n",
      "Epoch 4/20\n",
      "15/15 [==============================] - 28s 2s/step - loss: 0.9679 - accuracy: 0.7810\n",
      "Epoch 5/20\n",
      "15/15 [==============================] - 27s 2s/step - loss: 0.7012 - accuracy: 0.8440\n",
      "Epoch 6/20\n",
      "15/15 [==============================] - 27s 2s/step - loss: 0.5205 - accuracy: 0.8825\n",
      "Epoch 7/20\n",
      "15/15 [==============================] - 27s 2s/step - loss: 0.4130 - accuracy: 0.9209\n",
      "Epoch 8/20\n",
      "15/15 [==============================] - 27s 2s/step - loss: 0.2976 - accuracy: 0.9455\n",
      "Epoch 9/20\n",
      "15/15 [==============================] - 27s 2s/step - loss: 0.2487 - accuracy: 0.9594\n",
      "Epoch 10/20\n",
      "15/15 [==============================] - 28s 2s/step - loss: 0.2090 - accuracy: 0.9690\n",
      "Epoch 11/20\n",
      "15/15 [==============================] - 28s 2s/step - loss: 0.1682 - accuracy: 0.9744\n",
      "Epoch 12/20\n",
      "15/15 [==============================] - 31s 2s/step - loss: 0.1576 - accuracy: 0.9722\n",
      "Epoch 13/20\n",
      "15/15 [==============================] - 28s 2s/step - loss: 0.1349 - accuracy: 0.9850\n",
      "Epoch 14/20\n",
      "15/15 [==============================] - 28s 2s/step - loss: 0.1191 - accuracy: 0.9840\n",
      "Epoch 15/20\n",
      "15/15 [==============================] - 28s 2s/step - loss: 0.1074 - accuracy: 0.9893\n",
      "Epoch 16/20\n",
      "15/15 [==============================] - 33s 2s/step - loss: 0.0853 - accuracy: 0.9904\n",
      "Epoch 17/20\n",
      "15/15 [==============================] - 28s 2s/step - loss: 0.0755 - accuracy: 0.9947\n",
      "Epoch 18/20\n",
      "15/15 [==============================] - 28s 2s/step - loss: 0.0775 - accuracy: 0.9957\n",
      "Epoch 19/20\n",
      "15/15 [==============================] - 28s 2s/step - loss: 0.0692 - accuracy: 0.9925\n",
      "Epoch 20/20\n",
      "15/15 [==============================] - 27s 2s/step - loss: 0.0608 - accuracy: 0.9936\n"
     ]
    }
   ],
   "source": [
    "# Train the model\n",
    "\n",
    "history = model.fit(X_train, y_train, epochs=20, validation_batch_size=32, batch_size=64, verbose=1)"
   ]
  },
  {
   "cell_type": "code",
   "execution_count": 47,
   "metadata": {},
   "outputs": [
    {
     "data": {
      "image/png": "[encoded data removed]",
      "text/plain": [
       "<Figure size 640x480 with 1 Axes>"
      ]
     },
     "metadata": {},
     "output_type": "display_data"
    }
   ],
   "source": [
    "import matplotlib.pyplot as plt\n",
    "\n",
    "# Plot training & validation accuracy values\n",
    "plt.plot(history.history['accuracy'])\n",
    "plt.title('Transfer Learning Model accuracy')\n",
    "plt.ylabel('Accuracy')\n",
    "plt.xlabel('Epoch')\n",
    "plt.legend(['Train'], loc='upper left')\n",
    "plt.show()"
   ]
  },
  {
   "cell_type": "code",
   "execution_count": 48,
   "metadata": {},
   "outputs": [],
   "source": [
    "model.save('face_recognition_model.h5')"
   ]
  },
  {
   "cell_type": "code",
   "execution_count": 32,
   "metadata": {},
   "outputs": [],
   "source": [
    "model.load_weights('test5.h5')"
   ]
  },
  {
   "cell_type": "code",
   "execution_count": 34,
   "metadata": {},
   "outputs": [
    {
     "name": "stdout",
     "output_type": "stream",
     "text": [
      "8/8 [==============================] - 1s 167ms/step - loss: 0.3568 - accuracy: 0.9447\n"
     ]
    }
   ],
   "source": [
    "# test\n",
    "test_loss, test_acc = model.evaluate(X_test, y_test, verbose=1)"
   ]
  }
 ],
 "metadata": {
  "kernelspec": {
   "display_name": "pytorch-learn",
   "language": "python",
   "name": "python3"
  },
  "language_info": {
   "codemirror_mode": {
    "name": "ipython",
    "version": 3
   },
   "file_extension": ".py",
   "mimetype": "text/x-python",
   "name": "python",
   "nbconvert_exporter": "python",
   "pygments_lexer": "ipython3",
   "version": "3.8.17"
  }
 },
 "nbformat": 4,
 "nbformat_minor": 2
}
